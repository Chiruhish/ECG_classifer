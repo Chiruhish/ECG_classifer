{
 "cells": [
  {
   "cell_type": "markdown",
   "metadata": {},
   "source": [
    "# Heartbeats_classifier.py\n",
    "A professional, production-style Python script to build a normal vs. abnormal \n",
    "ECG heartbeat classifier using an MIT-BIH–derived CSV dataset.\n",
    "\n",
    "Author: Gtechnologies pty ltd\n",
    "Date: 2025-02-16\n"
   ]
  },
  {
   "cell_type": "code",
   "execution_count": 1,
   "metadata": {},
   "outputs": [],
   "source": [
    "import os \n",
    "import pandas as pd\n",
    "import numpy as np\n",
    "from sklearn.model_selection  import train_test_split\n",
    "from sklearn.metrics import confusion_matrix,classification_report\n",
    "from imblearn.over_sampling import RandomOverSampler\n",
    "from sklearn.ensemble import RandomForestClassifier\n",
    "\n",
    "import torch\n",
    "import torch.nn as nn\n",
    "import torch.optim as optim\n",
    "from torch.utils.data import TensorDataset,DataLoader\n",
    "\n",
    "csv=r\"C:\\Users\\user\\OneDrive\\Desktop\\projects\\ecg_images\\dataset\\mitbih_train.csv\"\n",
    "test_size=0.2\n",
    "random_state=42\n",
    "batch_size=64\n",
    "epoch=5\n"
   ]
  },
  {
   "cell_type": "markdown",
   "metadata": {},
   "source": [
    "code for importing the data"
   ]
  },
  {
   "cell_type": "code",
   "execution_count": 2,
   "metadata": {},
   "outputs": [],
   "source": [
    "def load_preprocess(csv: str):\n",
    "    df=pd.read_csv(csv,header=None)\n",
    "    print(f\"Data loaded: shape={df.shape} from {csv}\")\n",
    "\n",
    "    X=df.iloc[:,:-1].values\n",
    "    y_multi=df.iloc[:,-1].values\n",
    "\n",
    "    y_binary=np.where(y_multi == 0,0,1)\n",
    "    \n",
    "    return X , y_binary"
   ]
  },
  {
   "cell_type": "markdown",
   "metadata": {},
   "source": [
    "code for splitting the data"
   ]
  },
  {
   "cell_type": "code",
   "execution_count": 3,
   "metadata": {},
   "outputs": [],
   "source": [
    "def split_data(X,y,test_size=test_size):\n",
    "    return train_test_split(\n",
    "        X,\n",
    "        y,\n",
    "        test_size=test_size,\n",
    "        random_state=random_state,\n",
    "        stratify=y\n",
    "\n",
    "    )"
   ]
  },
  {
   "cell_type": "code",
   "execution_count": 4,
   "metadata": {},
   "outputs": [
    {
     "name": "stdout",
     "output_type": "stream",
     "text": [
      "Data loaded: shape=(87554, 188) from C:\\Users\\user\\OneDrive\\Desktop\\projects\\ecg_images\\dataset\\mitbih_train.csv\n",
      "Train shape : (70043, 187), Test shape : (17511, 187)\n"
     ]
    }
   ],
   "source": [
    "X,y=load_preprocess(csv)\n",
    "X_train,X_test,y_train,y_test=split_data(X,y)\n",
    "print(f\"Train shape : {X_train.shape}, Test shape : {X_test.shape}\")"
   ]
  },
  {
   "cell_type": "code",
   "execution_count": 5,
   "metadata": {},
   "outputs": [],
   "source": [
    "count=0\n",
    "for i in range(len(y_test)):\n",
    "    if y_test[i] ==  1:\n",
    "        count=count+1\n"
   ]
  },
  {
   "cell_type": "markdown",
   "metadata": {},
   "source": [
    "Balacing the dataaset "
   ]
  },
  {
   "cell_type": "code",
   "execution_count": 6,
   "metadata": {},
   "outputs": [
    {
     "name": "stdout",
     "output_type": "stream",
     "text": [
      "After over sampling\n",
      "x_train_bal shape:[[1.         0.90552998 0.68894011 ... 0.         0.         0.        ]\n",
      " [1.         0.85714287 0.52709359 ... 0.         0.         0.        ]\n",
      " [1.         0.93597561 0.5625     ... 0.         0.         0.        ]\n",
      " ...\n",
      " [1.         0.95012164 0.90145987 ... 0.         0.         0.        ]\n",
      " [0.         0.04       0.1        ... 0.         0.         0.        ]\n",
      " [1.         0.890625   0.59375    ... 0.         0.         0.        ]]\n"
     ]
    }
   ],
   "source": [
    "ros = RandomOverSampler(random_state=random_state)\n",
    "X_train_bal,y_train_bal=ros.fit_resample(X_train,y_train)\n",
    "print(\"After over sampling\")\n",
    "print(f\"x_train_bal shape:{X_train_bal}\")\n"
   ]
  },
  {
   "cell_type": "markdown",
   "metadata": {},
   "source": [
    "Random forest classifier from scartch "
   ]
  },
  {
   "cell_type": "code",
   "execution_count": 7,
   "metadata": {},
   "outputs": [
    {
     "name": "stdout",
     "output_type": "stream",
     "text": [
      "Random forest classifier executed\n"
     ]
    }
   ],
   "source": [
    "rf_clf=RandomForestClassifier(n_estimators=100,max_depth=15,random_state=random_state)\n",
    "rf_clf.fit(X_train_bal,y_train_bal)\n",
    "print(\"Random forest classifier executed\")\n"
   ]
  },
  {
   "cell_type": "markdown",
   "metadata": {},
   "source": [
    "evualting rf \n"
   ]
  },
  {
   "cell_type": "code",
   "execution_count": 8,
   "metadata": {},
   "outputs": [
    {
     "name": "stdout",
     "output_type": "stream",
     "text": [
      "=== Random forest evaluation ===\n",
      "confusion matrix:\n",
      "\n",
      "[[14425    69]\n",
      " [  293  2724]] \n",
      "\n",
      "Classification report \n",
      " \n",
      "              precision    recall  f1-score   support\n",
      "\n",
      "      Normal       0.98      1.00      0.99     14494\n",
      "     Abormal       0.98      0.90      0.94      3017\n",
      "\n",
      "    accuracy                           0.98     17511\n",
      "   macro avg       0.98      0.95      0.96     17511\n",
      "weighted avg       0.98      0.98      0.98     17511\n",
      "\n"
     ]
    }
   ],
   "source": [
    "y_pred_rf=rf_clf.predict(X_test)\n",
    "cm_rf=confusion_matrix(y_test,y_pred_rf)\n",
    "report_rf=classification_report(y_test,y_pred_rf,target_names=['Normal','Abormal'])\n",
    "\n",
    "print(\"=== Random forest evaluation ===\")\n",
    "print(\"confusion matrix:\\n\")\n",
    "print(f\"{cm_rf} \\n\")\n",
    "print(\"Classification report \\n \")\n",
    "print(report_rf)\n"
   ]
  },
  {
   "cell_type": "code",
   "execution_count": 18,
   "metadata": {},
   "outputs": [],
   "source": [
    "report_rf=classification_report(y_test,y_pred_rf,target_names=['Normal','Abormal'],output_dict=True)"
   ]
  },
  {
   "cell_type": "code",
   "execution_count": 14,
   "metadata": {},
   "outputs": [
    {
     "data": {
      "image/png": "[encoded data removed]",
      "text/plain": [
       "<Figure size 432x360 with 2 Axes>"
      ]
     },
     "metadata": {
      "needs_background": "light"
     },
     "output_type": "display_data"
    }
   ],
   "source": [
    "plt.figure(figsize=(6, 5))\n",
    "sns.set(style=\"whitegrid\")\n",
    "sns.heatmap(cm_rf, annot=True, fmt=\"d\", cmap=\"rocket\", linewidths=1.5, square=True, cbar=True,\n",
    "            xticklabels=['Normal', 'Abnormal'], yticklabels=['Normal', 'Abnormal'])\n",
    "plt.title(\"Confusion Matrix\", fontsize=16, pad=15, weight='bold')\n",
    "plt.ylabel('Actual', fontsize=12)\n",
    "plt.xlabel('Predicted', fontsize=12)\n",
    "plt.show()"
   ]
  },
  {
   "cell_type": "code",
   "execution_count": 19,
   "metadata": {},
   "outputs": [
    {
     "data": {
      "image/png": "[encoded data removed]",
      "text/plain": [
       "<Figure size 576x360 with 2 Axes>"
      ]
     },
     "metadata": {},
     "output_type": "display_data"
    }
   ],
   "source": [
    "report_df=pd.DataFrame(report_rf).transpose()\n",
    "plt.figure(figsize=(8, 5))\n",
    "sns.heatmap(report_df.iloc[:-1, :-1], annot=True, cmap=\"coolwarm\", linewidths=1.5, cbar=True,\n",
    "            fmt=\".2f\", square=True, linecolor='white')\n",
    "plt.title(\"Classification Report\", fontsize=16, pad=15, weight='bold')\n",
    "plt.show()"
   ]
  }
 ],
 "metadata": {
  "kernelspec": {
   "display_name": "base",
   "language": "python",
   "name": "python3"
  },
  "language_info": {
   "codemirror_mode": {
    "name": "ipython",
    "version": 3
   },
   "file_extension": ".py",
   "mimetype": "text/x-python",
   "name": "python",
   "nbconvert_exporter": "python",
   "pygments_lexer": "ipython3",
   "version": "3.9.12"
  }
 },
 "nbformat": 4,
 "nbformat_minor": 2
}
